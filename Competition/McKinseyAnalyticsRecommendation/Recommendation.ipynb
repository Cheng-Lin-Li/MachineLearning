{
 "cells": [
  {
   "cell_type": "markdown",
   "metadata": {},
   "source": [
    "# Recommendation System\n",
    "## Problem Statement\n",
    "\n",
    "Your client is a fast-growing mobile platform, for hosting coding challenges. They have a unique business model, where they crowdsource problems from various creators(authors). These authors create the problem and release it on the client's platform. The users then select the challenges they want to solve. The authors make money based on the level of difficulty of their problems and how many users take up their challenge.\n",
    " \n",
    "The client, on the other hand makes money when the users can find challenges of their interest and continue to stay on the platform. Till date, the client has relied on its domain expertise, user interface and experience with user behaviour to suggest the problems a user might be interested in. You have now been appointed as the data scientist who needs to come up with the algorithm to keep the users engaged on the platform.\n",
    "The client has provided you with history of last 10 challenges the user has solved, and you need to predict which might be the next 3 challenges the user might be interested to solve. Apply your data science skills to help the client make a big mark in their user engagements/revenue."
   ]
  },
  {
   "cell_type": "markdown",
   "metadata": {},
   "source": [
    "## Notice:\n",
    "\n",
    "Below codes still need to optimize to save memory. The program cannot complete the execution in an i7 with 16GB RAM Windows 10 platform."
   ]
  },
  {
   "cell_type": "markdown",
   "metadata": {},
   "source": [
    "## DATASET DESCRIPTION\n",
    "### We have three data files:\n",
    "##### train.csv: It contains the set of 13 challenges that were attempted by the same user in a sequence \n",
    "\n",
    "|Variable | Definition|\n",
    "|------------- |-------------|\n",
    "|user_sequence|Unique ID for the sequence|\n",
    "|user_id|User ID|\n",
    "|challenge_sequence|Challenge sequence number (1-13)|\n",
    "|challenge|Challenge ID|\n",
    "\n",
    "##### challenge_data.csv: Contains attributes related to each challenge\n",
    "|Variable|Definition|\n",
    "|------------- |-------------|\n",
    "|challenge_ID|Challenge ID|\n",
    "|programming_language|Programming language for the challenge|\n",
    "|challenge_series_ID|Series for the given challenge|\n",
    "|total_submissions|Total submissions by all users|\n",
    "|publish_date|Publishing date for the challenge|\n",
    "|author_ID|Author ID|\n",
    "|author_gender|Author gender|\n",
    "|author_org_ID|Organization ID for author|\n",
    "|category_id|Type of challenge|\n",
    "\n",
    "##### test.csv:  \n",
    "Contains the first 10 challenges solved by a new user set (not in train) in the test set. We need to predict the next 3 sequence of challenges for these users.\n",
    "\n",
    "|Variable|Definition|\n",
    "|------------- |-------------|\n",
    "|user_sequence|Unique ID for the sequence|\n",
    "|user_id|User ID|\n",
    "|challenge_sequence|Challenge sequence number (1-10)|\n",
    "|challenge|Challenge ID|\n",
    "\n",
    "##### sample_submission.csv:  \n",
    "It contains the format for submission. Only submissions in this format are acceptable. This should have the next 3 challenges for each user.\n",
    "\n",
    "|Variable|Definition|\n",
    "|------------- |-------------|\n",
    "|user_sequence|Unique ID for the sequence (See Note)|\n",
    "|challenge|Challenge ID|\n",
    "\n",
    "###### Note: The format is given by \"user_id_challenge_sequence\". For example, for user ID 2 you must predict the next 3 challenges with sequence 11, 12 and 13 respectively. The corresponding user_sequence would be given by 2_11, 2_12 & 2_13.\n"
   ]
  },
  {
   "cell_type": "code",
   "execution_count": 3,
   "metadata": {},
   "outputs": [],
   "source": [
    "%matplotlib inline\n",
    "import pickle\n",
    "import pandas as pd\n",
    "import numpy as np\n",
    "import matplotlib.pyplot as plt\n",
    "import seaborn as sns\n",
    "from scipy import stats\n",
    "from ast import literal_eval\n",
    "from sklearn.feature_extraction.text import TfidfVectorizer, CountVectorizer\n",
    "from sklearn.metrics.pairwise import linear_kernel, cosine_similarity\n",
    "from nltk.stem.snowball import SnowballStemmer\n",
    "from nltk.stem.wordnet import WordNetLemmatizer\n",
    "from nltk.corpus import wordnet\n",
    "from surprise import Reader, Dataset, SVD, SVDpp, evaluate\n",
    "from surprise.model_selection import cross_validate\n",
    "\n",
    "import warnings; warnings.simplefilter('ignore')"
   ]
  },
  {
   "cell_type": "code",
   "execution_count": 2,
   "metadata": {},
   "outputs": [
    {
     "data": {
      "text/html": [
       "<div>\n",
       "<style scoped>\n",
       "    .dataframe tbody tr th:only-of-type {\n",
       "        vertical-align: middle;\n",
       "    }\n",
       "\n",
       "    .dataframe tbody tr th {\n",
       "        vertical-align: top;\n",
       "    }\n",
       "\n",
       "    .dataframe thead th {\n",
       "        text-align: right;\n",
       "    }\n",
       "</style>\n",
       "<table border=\"1\" class=\"dataframe\">\n",
       "  <thead>\n",
       "    <tr style=\"text-align: right;\">\n",
       "      <th></th>\n",
       "      <th>challenge_ID</th>\n",
       "      <th>programming_language</th>\n",
       "      <th>challenge_series_ID</th>\n",
       "      <th>total_submissions</th>\n",
       "      <th>publish_date</th>\n",
       "      <th>author_ID</th>\n",
       "      <th>author_gender</th>\n",
       "      <th>author_org_ID</th>\n",
       "      <th>category_id</th>\n",
       "    </tr>\n",
       "  </thead>\n",
       "  <tbody>\n",
       "    <tr>\n",
       "      <th>0</th>\n",
       "      <td>CI23478</td>\n",
       "      <td>2</td>\n",
       "      <td>SI2445</td>\n",
       "      <td>37.0</td>\n",
       "      <td>06-05-2006</td>\n",
       "      <td>AI563576</td>\n",
       "      <td>M</td>\n",
       "      <td>AOI100001</td>\n",
       "      <td>NaN</td>\n",
       "    </tr>\n",
       "    <tr>\n",
       "      <th>1</th>\n",
       "      <td>CI23479</td>\n",
       "      <td>2</td>\n",
       "      <td>SI2435</td>\n",
       "      <td>48.0</td>\n",
       "      <td>17-10-2002</td>\n",
       "      <td>AI563577</td>\n",
       "      <td>M</td>\n",
       "      <td>AOI100002</td>\n",
       "      <td>32.0</td>\n",
       "    </tr>\n",
       "    <tr>\n",
       "      <th>2</th>\n",
       "      <td>CI23480</td>\n",
       "      <td>1</td>\n",
       "      <td>SI2435</td>\n",
       "      <td>15.0</td>\n",
       "      <td>16-10-2002</td>\n",
       "      <td>AI563578</td>\n",
       "      <td>M</td>\n",
       "      <td>AOI100003</td>\n",
       "      <td>NaN</td>\n",
       "    </tr>\n",
       "    <tr>\n",
       "      <th>3</th>\n",
       "      <td>CI23481</td>\n",
       "      <td>1</td>\n",
       "      <td>SI2710</td>\n",
       "      <td>236.0</td>\n",
       "      <td>19-09-2003</td>\n",
       "      <td>AI563579</td>\n",
       "      <td>M</td>\n",
       "      <td>AOI100004</td>\n",
       "      <td>70.0</td>\n",
       "    </tr>\n",
       "    <tr>\n",
       "      <th>4</th>\n",
       "      <td>CI23482</td>\n",
       "      <td>2</td>\n",
       "      <td>SI2440</td>\n",
       "      <td>137.0</td>\n",
       "      <td>21-03-2002</td>\n",
       "      <td>AI563580</td>\n",
       "      <td>M</td>\n",
       "      <td>AOI100005</td>\n",
       "      <td>NaN</td>\n",
       "    </tr>\n",
       "  </tbody>\n",
       "</table>\n",
       "</div>"
      ],
      "text/plain": [
       "  challenge_ID  programming_language challenge_series_ID  total_submissions  \\\n",
       "0      CI23478                     2              SI2445               37.0   \n",
       "1      CI23479                     2              SI2435               48.0   \n",
       "2      CI23480                     1              SI2435               15.0   \n",
       "3      CI23481                     1              SI2710              236.0   \n",
       "4      CI23482                     2              SI2440              137.0   \n",
       "\n",
       "  publish_date author_ID author_gender author_org_ID  category_id  \n",
       "0   06-05-2006  AI563576             M     AOI100001          NaN  \n",
       "1   17-10-2002  AI563577             M     AOI100002         32.0  \n",
       "2   16-10-2002  AI563578             M     AOI100003          NaN  \n",
       "3   19-09-2003  AI563579             M     AOI100004         70.0  \n",
       "4   21-03-2002  AI563580             M     AOI100005          NaN  "
      ]
     },
     "execution_count": 2,
     "metadata": {},
     "output_type": "execute_result"
    }
   ],
   "source": [
    "df_challenge = pd.read_csv('challenge_data-revised.csv')\n",
    "df_challenge.head()"
   ]
  },
  {
   "cell_type": "code",
   "execution_count": 3,
   "metadata": {},
   "outputs": [
    {
     "data": {
      "text/html": [
       "<div>\n",
       "<style scoped>\n",
       "    .dataframe tbody tr th:only-of-type {\n",
       "        vertical-align: middle;\n",
       "    }\n",
       "\n",
       "    .dataframe tbody tr th {\n",
       "        vertical-align: top;\n",
       "    }\n",
       "\n",
       "    .dataframe thead th {\n",
       "        text-align: right;\n",
       "    }\n",
       "</style>\n",
       "<table border=\"1\" class=\"dataframe\">\n",
       "  <thead>\n",
       "    <tr style=\"text-align: right;\">\n",
       "      <th></th>\n",
       "      <th>challenge_ID</th>\n",
       "      <th>programming_language</th>\n",
       "      <th>challenge_series_ID</th>\n",
       "      <th>total_submissions</th>\n",
       "      <th>publish_date</th>\n",
       "      <th>author_ID</th>\n",
       "      <th>author_gender</th>\n",
       "      <th>author_org_ID</th>\n",
       "      <th>category_id</th>\n",
       "    </tr>\n",
       "  </thead>\n",
       "  <tbody>\n",
       "    <tr>\n",
       "      <th>5601</th>\n",
       "      <td>CI29079</td>\n",
       "      <td>1</td>\n",
       "      <td>SI2864</td>\n",
       "      <td>NaN</td>\n",
       "      <td>17-06-2010</td>\n",
       "      <td>AI567059</td>\n",
       "      <td>M</td>\n",
       "      <td>AOI101717</td>\n",
       "      <td>29.0</td>\n",
       "    </tr>\n",
       "    <tr>\n",
       "      <th>5602</th>\n",
       "      <td>CI29080</td>\n",
       "      <td>1</td>\n",
       "      <td>SI2865</td>\n",
       "      <td>NaN</td>\n",
       "      <td>25-06-2010</td>\n",
       "      <td>AI567060</td>\n",
       "      <td>F</td>\n",
       "      <td>AOI101718</td>\n",
       "      <td>29.0</td>\n",
       "    </tr>\n",
       "    <tr>\n",
       "      <th>5603</th>\n",
       "      <td>CI29081</td>\n",
       "      <td>1</td>\n",
       "      <td>SI2865</td>\n",
       "      <td>NaN</td>\n",
       "      <td>25-06-2010</td>\n",
       "      <td>AI566257</td>\n",
       "      <td>M</td>\n",
       "      <td>AOI100108</td>\n",
       "      <td>29.0</td>\n",
       "    </tr>\n",
       "    <tr>\n",
       "      <th>5604</th>\n",
       "      <td>CI29082</td>\n",
       "      <td>1</td>\n",
       "      <td>SI2865</td>\n",
       "      <td>NaN</td>\n",
       "      <td>25-06-2010</td>\n",
       "      <td>AI563777</td>\n",
       "      <td>M</td>\n",
       "      <td>AOI100108</td>\n",
       "      <td>29.0</td>\n",
       "    </tr>\n",
       "    <tr>\n",
       "      <th>5605</th>\n",
       "      <td>CI29083</td>\n",
       "      <td>1</td>\n",
       "      <td>SI2865</td>\n",
       "      <td>NaN</td>\n",
       "      <td>25-06-2010</td>\n",
       "      <td>AI564006</td>\n",
       "      <td>F</td>\n",
       "      <td>AOI100022</td>\n",
       "      <td>29.0</td>\n",
       "    </tr>\n",
       "  </tbody>\n",
       "</table>\n",
       "</div>"
      ],
      "text/plain": [
       "     challenge_ID  programming_language challenge_series_ID  \\\n",
       "5601      CI29079                     1              SI2864   \n",
       "5602      CI29080                     1              SI2865   \n",
       "5603      CI29081                     1              SI2865   \n",
       "5604      CI29082                     1              SI2865   \n",
       "5605      CI29083                     1              SI2865   \n",
       "\n",
       "      total_submissions publish_date author_ID author_gender author_org_ID  \\\n",
       "5601                NaN   17-06-2010  AI567059             M     AOI101717   \n",
       "5602                NaN   25-06-2010  AI567060             F     AOI101718   \n",
       "5603                NaN   25-06-2010  AI566257             M     AOI100108   \n",
       "5604                NaN   25-06-2010  AI563777             M     AOI100108   \n",
       "5605                NaN   25-06-2010  AI564006             F     AOI100022   \n",
       "\n",
       "      category_id  \n",
       "5601         29.0  \n",
       "5602         29.0  \n",
       "5603         29.0  \n",
       "5604         29.0  \n",
       "5605         29.0  "
      ]
     },
     "execution_count": 3,
     "metadata": {},
     "output_type": "execute_result"
    }
   ],
   "source": [
    "df_challenge.tail()"
   ]
  },
  {
   "cell_type": "code",
   "execution_count": 4,
   "metadata": {},
   "outputs": [
    {
     "data": {
      "text/html": [
       "<div>\n",
       "<style scoped>\n",
       "    .dataframe tbody tr th:only-of-type {\n",
       "        vertical-align: middle;\n",
       "    }\n",
       "\n",
       "    .dataframe tbody tr th {\n",
       "        vertical-align: top;\n",
       "    }\n",
       "\n",
       "    .dataframe thead th {\n",
       "        text-align: right;\n",
       "    }\n",
       "</style>\n",
       "<table border=\"1\" class=\"dataframe\">\n",
       "  <thead>\n",
       "    <tr style=\"text-align: right;\">\n",
       "      <th></th>\n",
       "      <th>user_sequence</th>\n",
       "      <th>user_id</th>\n",
       "      <th>challenge_sequence</th>\n",
       "      <th>challenge</th>\n",
       "    </tr>\n",
       "  </thead>\n",
       "  <tbody>\n",
       "    <tr>\n",
       "      <th>0</th>\n",
       "      <td>4576_1</td>\n",
       "      <td>4576</td>\n",
       "      <td>1</td>\n",
       "      <td>CI23714</td>\n",
       "    </tr>\n",
       "    <tr>\n",
       "      <th>1</th>\n",
       "      <td>4576_2</td>\n",
       "      <td>4576</td>\n",
       "      <td>2</td>\n",
       "      <td>CI23855</td>\n",
       "    </tr>\n",
       "    <tr>\n",
       "      <th>2</th>\n",
       "      <td>4576_3</td>\n",
       "      <td>4576</td>\n",
       "      <td>3</td>\n",
       "      <td>CI24917</td>\n",
       "    </tr>\n",
       "    <tr>\n",
       "      <th>3</th>\n",
       "      <td>4576_4</td>\n",
       "      <td>4576</td>\n",
       "      <td>4</td>\n",
       "      <td>CI23663</td>\n",
       "    </tr>\n",
       "    <tr>\n",
       "      <th>4</th>\n",
       "      <td>4576_5</td>\n",
       "      <td>4576</td>\n",
       "      <td>5</td>\n",
       "      <td>CI23933</td>\n",
       "    </tr>\n",
       "  </tbody>\n",
       "</table>\n",
       "</div>"
      ],
      "text/plain": [
       "  user_sequence  user_id  challenge_sequence challenge\n",
       "0        4576_1     4576                   1   CI23714\n",
       "1        4576_2     4576                   2   CI23855\n",
       "2        4576_3     4576                   3   CI24917\n",
       "3        4576_4     4576                   4   CI23663\n",
       "4        4576_5     4576                   5   CI23933"
      ]
     },
     "execution_count": 4,
     "metadata": {},
     "output_type": "execute_result"
    }
   ],
   "source": [
    "df_train = pd.read_csv('train.csv')\n",
    "df_train.head()"
   ]
  },
  {
   "cell_type": "code",
   "execution_count": 5,
   "metadata": {},
   "outputs": [
    {
     "data": {
      "text/html": [
       "<div>\n",
       "<style scoped>\n",
       "    .dataframe tbody tr th:only-of-type {\n",
       "        vertical-align: middle;\n",
       "    }\n",
       "\n",
       "    .dataframe tbody tr th {\n",
       "        vertical-align: top;\n",
       "    }\n",
       "\n",
       "    .dataframe thead th {\n",
       "        text-align: right;\n",
       "    }\n",
       "</style>\n",
       "<table border=\"1\" class=\"dataframe\">\n",
       "  <thead>\n",
       "    <tr style=\"text-align: right;\">\n",
       "      <th></th>\n",
       "      <th>user_sequence</th>\n",
       "      <th>user_id</th>\n",
       "      <th>challenge_sequence</th>\n",
       "      <th>challenge</th>\n",
       "    </tr>\n",
       "  </thead>\n",
       "  <tbody>\n",
       "    <tr>\n",
       "      <th>0</th>\n",
       "      <td>4577_1</td>\n",
       "      <td>4577</td>\n",
       "      <td>1</td>\n",
       "      <td>CI23855</td>\n",
       "    </tr>\n",
       "    <tr>\n",
       "      <th>1</th>\n",
       "      <td>4577_2</td>\n",
       "      <td>4577</td>\n",
       "      <td>2</td>\n",
       "      <td>CI23933</td>\n",
       "    </tr>\n",
       "    <tr>\n",
       "      <th>2</th>\n",
       "      <td>4577_3</td>\n",
       "      <td>4577</td>\n",
       "      <td>3</td>\n",
       "      <td>CI24917</td>\n",
       "    </tr>\n",
       "    <tr>\n",
       "      <th>3</th>\n",
       "      <td>4577_4</td>\n",
       "      <td>4577</td>\n",
       "      <td>4</td>\n",
       "      <td>CI24915</td>\n",
       "    </tr>\n",
       "    <tr>\n",
       "      <th>4</th>\n",
       "      <td>4577_5</td>\n",
       "      <td>4577</td>\n",
       "      <td>5</td>\n",
       "      <td>CI23714</td>\n",
       "    </tr>\n",
       "  </tbody>\n",
       "</table>\n",
       "</div>"
      ],
      "text/plain": [
       "  user_sequence  user_id  challenge_sequence challenge\n",
       "0        4577_1     4577                   1   CI23855\n",
       "1        4577_2     4577                   2   CI23933\n",
       "2        4577_3     4577                   3   CI24917\n",
       "3        4577_4     4577                   4   CI24915\n",
       "4        4577_5     4577                   5   CI23714"
      ]
     },
     "execution_count": 5,
     "metadata": {},
     "output_type": "execute_result"
    }
   ],
   "source": [
    "df_test = pd.read_csv('test.csv')\n",
    "df_test.head()"
   ]
  },
  {
   "cell_type": "markdown",
   "metadata": {},
   "source": [
    "## Content Based Recommender\n",
    "\n",
    "Computes similarity between challenges based on certain metrics and suggests challenges that are most similar to a particular challenge that a user liked. the challenge metadata (or content) will be used to build this engine, this also known as Content Based Filtering.\n",
    "\n",
    "Two Content Based Recommenders based on:\n",
    "\n",
    "    programming_language, author id, category id, total_submissions\n",
    "    programming_language, author id, author gender, author org, category id, total_submissions."
   ]
  },
  {
   "cell_type": "code",
   "execution_count": 6,
   "metadata": {},
   "outputs": [
    {
     "data": {
      "text/plain": [
       "(5606, 9)"
      ]
     },
     "execution_count": 6,
     "metadata": {},
     "output_type": "execute_result"
    }
   ],
   "source": [
    "df_challenge.shape"
   ]
  },
  {
   "cell_type": "code",
   "execution_count": 7,
   "metadata": {},
   "outputs": [
    {
     "data": {
      "text/plain": [
       "challenge_ID            False\n",
       "programming_language    False\n",
       "challenge_series_ID     False\n",
       "total_submissions        True\n",
       "publish_date            False\n",
       "author_ID                True\n",
       "author_gender            True\n",
       "author_org_ID            True\n",
       "category_id              True\n",
       "dtype: bool"
      ]
     },
     "execution_count": 7,
     "metadata": {},
     "output_type": "execute_result"
    }
   ],
   "source": [
    "df_challenge.isnull().any()"
   ]
  },
  {
   "cell_type": "code",
   "execution_count": 8,
   "metadata": {},
   "outputs": [
    {
     "data": {
      "text/html": [
       "<div>\n",
       "<style scoped>\n",
       "    .dataframe tbody tr th:only-of-type {\n",
       "        vertical-align: middle;\n",
       "    }\n",
       "\n",
       "    .dataframe tbody tr th {\n",
       "        vertical-align: top;\n",
       "    }\n",
       "\n",
       "    .dataframe thead th {\n",
       "        text-align: right;\n",
       "    }\n",
       "</style>\n",
       "<table border=\"1\" class=\"dataframe\">\n",
       "  <thead>\n",
       "    <tr style=\"text-align: right;\">\n",
       "      <th></th>\n",
       "      <th>challenge_ID</th>\n",
       "      <th>programming_language</th>\n",
       "      <th>challenge_series_ID</th>\n",
       "      <th>total_submissions</th>\n",
       "      <th>publish_date</th>\n",
       "      <th>author_ID</th>\n",
       "      <th>author_gender</th>\n",
       "      <th>author_org_ID</th>\n",
       "      <th>category_id</th>\n",
       "    </tr>\n",
       "  </thead>\n",
       "  <tbody>\n",
       "    <tr>\n",
       "      <th>5601</th>\n",
       "      <td>CI29079</td>\n",
       "      <td>1</td>\n",
       "      <td>SI2864</td>\n",
       "      <td>NaN</td>\n",
       "      <td>2010-06-17</td>\n",
       "      <td>AI567059</td>\n",
       "      <td>M</td>\n",
       "      <td>AOI101717</td>\n",
       "      <td>29.0</td>\n",
       "    </tr>\n",
       "    <tr>\n",
       "      <th>5602</th>\n",
       "      <td>CI29080</td>\n",
       "      <td>1</td>\n",
       "      <td>SI2865</td>\n",
       "      <td>NaN</td>\n",
       "      <td>2010-06-25</td>\n",
       "      <td>AI567060</td>\n",
       "      <td>F</td>\n",
       "      <td>AOI101718</td>\n",
       "      <td>29.0</td>\n",
       "    </tr>\n",
       "    <tr>\n",
       "      <th>5603</th>\n",
       "      <td>CI29081</td>\n",
       "      <td>1</td>\n",
       "      <td>SI2865</td>\n",
       "      <td>NaN</td>\n",
       "      <td>2010-06-25</td>\n",
       "      <td>AI566257</td>\n",
       "      <td>M</td>\n",
       "      <td>AOI100108</td>\n",
       "      <td>29.0</td>\n",
       "    </tr>\n",
       "    <tr>\n",
       "      <th>5604</th>\n",
       "      <td>CI29082</td>\n",
       "      <td>1</td>\n",
       "      <td>SI2865</td>\n",
       "      <td>NaN</td>\n",
       "      <td>2010-06-25</td>\n",
       "      <td>AI563777</td>\n",
       "      <td>M</td>\n",
       "      <td>AOI100108</td>\n",
       "      <td>29.0</td>\n",
       "    </tr>\n",
       "    <tr>\n",
       "      <th>5605</th>\n",
       "      <td>CI29083</td>\n",
       "      <td>1</td>\n",
       "      <td>SI2865</td>\n",
       "      <td>NaN</td>\n",
       "      <td>2010-06-25</td>\n",
       "      <td>AI564006</td>\n",
       "      <td>F</td>\n",
       "      <td>AOI100022</td>\n",
       "      <td>29.0</td>\n",
       "    </tr>\n",
       "  </tbody>\n",
       "</table>\n",
       "</div>"
      ],
      "text/plain": [
       "     challenge_ID  programming_language challenge_series_ID  \\\n",
       "5601      CI29079                     1              SI2864   \n",
       "5602      CI29080                     1              SI2865   \n",
       "5603      CI29081                     1              SI2865   \n",
       "5604      CI29082                     1              SI2865   \n",
       "5605      CI29083                     1              SI2865   \n",
       "\n",
       "      total_submissions publish_date author_ID author_gender author_org_ID  \\\n",
       "5601                NaN   2010-06-17  AI567059             M     AOI101717   \n",
       "5602                NaN   2010-06-25  AI567060             F     AOI101718   \n",
       "5603                NaN   2010-06-25  AI566257             M     AOI100108   \n",
       "5604                NaN   2010-06-25  AI563777             M     AOI100108   \n",
       "5605                NaN   2010-06-25  AI564006             F     AOI100022   \n",
       "\n",
       "      category_id  \n",
       "5601         29.0  \n",
       "5602         29.0  \n",
       "5603         29.0  \n",
       "5604         29.0  \n",
       "5605         29.0  "
      ]
     },
     "execution_count": 8,
     "metadata": {},
     "output_type": "execute_result"
    }
   ],
   "source": [
    "df_challenge['publish_date'] = pd.to_datetime(df_challenge['publish_date'])\n",
    "df_challenge.tail()"
   ]
  },
  {
   "cell_type": "markdown",
   "metadata": {},
   "source": [
    "### Check null values"
   ]
  },
  {
   "cell_type": "code",
   "execution_count": 9,
   "metadata": {},
   "outputs": [
    {
     "data": {
      "text/plain": [
       "challenge_ID            False\n",
       "programming_language    False\n",
       "challenge_series_ID     False\n",
       "total_submissions        True\n",
       "publish_date            False\n",
       "author_ID                True\n",
       "author_gender            True\n",
       "author_org_ID            True\n",
       "category_id              True\n",
       "dtype: bool"
      ]
     },
     "execution_count": 9,
     "metadata": {},
     "output_type": "execute_result"
    }
   ],
   "source": [
    "df_challenge.isnull().any()"
   ]
  },
  {
   "cell_type": "markdown",
   "metadata": {},
   "source": [
    "## Data Cleaning\n",
    "### total_submissions"
   ]
  },
  {
   "cell_type": "code",
   "execution_count": 10,
   "metadata": {},
   "outputs": [
    {
     "data": {
      "image/png": "[encoded data removed]",
      "text/plain": [
       "<matplotlib.figure.Figure at 0x204dc2947b8>"
      ]
     },
     "metadata": {},
     "output_type": "display_data"
    }
   ],
   "source": [
    "with sns.plotting_context(\"notebook\",font_scale=1.5):\n",
    "    sns.set_style(\"whitegrid\")\n",
    "    sns.distplot(df_challenge[\"total_submissions\"].dropna(),\n",
    "                 bins=20,\n",
    "                 kde=False,\n",
    "                 color=\"green\")\n",
    "    plt.title(\"total_submissions\")\n",
    "    plt.ylabel(\"Count\")\n",
    "    "
   ]
  },
  {
   "cell_type": "code",
   "execution_count": 11,
   "metadata": {},
   "outputs": [
    {
     "name": "stdout",
     "output_type": "stream",
     "text": [
      "total_submissions=> mean =348.362581, median=134.000000\n"
     ]
    },
    {
     "data": {
      "text/plain": [
       "count     5254.000000\n",
       "mean       348.362581\n",
       "std       1044.810816\n",
       "min          2.000000\n",
       "25%         67.000000\n",
       "50%        134.000000\n",
       "75%        297.000000\n",
       "max      43409.000000\n",
       "Name: total_submissions, dtype: float64"
      ]
     },
     "execution_count": 11,
     "metadata": {},
     "output_type": "execute_result"
    }
   ],
   "source": [
    "print('total_submissions=> mean =%f, median=%f'%(df_challenge[\"total_submissions\"].mean(), df_challenge[\"total_submissions\"].median()))\n",
    "df_challenge[\"total_submissions\"].describe()"
   ]
  },
  {
   "cell_type": "code",
   "execution_count": 12,
   "metadata": {},
   "outputs": [
    {
     "data": {
      "text/plain": [
       "352"
      ]
     },
     "execution_count": 12,
     "metadata": {},
     "output_type": "execute_result"
    }
   ],
   "source": [
    "df_challenge[\"total_submissions\"].isna().sum()"
   ]
  },
  {
   "cell_type": "markdown",
   "metadata": {},
   "source": [
    "### Data cleaning for total submissions.\n",
    "The latest challenges do not have the number, use median number to fillin."
   ]
  },
  {
   "cell_type": "code",
   "execution_count": 13,
   "metadata": {},
   "outputs": [
    {
     "data": {
      "text/html": [
       "<div>\n",
       "<style scoped>\n",
       "    .dataframe tbody tr th:only-of-type {\n",
       "        vertical-align: middle;\n",
       "    }\n",
       "\n",
       "    .dataframe tbody tr th {\n",
       "        vertical-align: top;\n",
       "    }\n",
       "\n",
       "    .dataframe thead th {\n",
       "        text-align: right;\n",
       "    }\n",
       "</style>\n",
       "<table border=\"1\" class=\"dataframe\">\n",
       "  <thead>\n",
       "    <tr style=\"text-align: right;\">\n",
       "      <th></th>\n",
       "      <th>challenge_ID</th>\n",
       "      <th>programming_language</th>\n",
       "      <th>challenge_series_ID</th>\n",
       "      <th>total_submissions</th>\n",
       "      <th>publish_date</th>\n",
       "      <th>author_ID</th>\n",
       "      <th>author_gender</th>\n",
       "      <th>author_org_ID</th>\n",
       "      <th>category_id</th>\n",
       "    </tr>\n",
       "  </thead>\n",
       "  <tbody>\n",
       "    <tr>\n",
       "      <th>5601</th>\n",
       "      <td>CI29079</td>\n",
       "      <td>1</td>\n",
       "      <td>SI2864</td>\n",
       "      <td>122.0</td>\n",
       "      <td>2010-06-17</td>\n",
       "      <td>AI567059</td>\n",
       "      <td>M</td>\n",
       "      <td>AOI101717</td>\n",
       "      <td>29.0</td>\n",
       "    </tr>\n",
       "    <tr>\n",
       "      <th>5602</th>\n",
       "      <td>CI29080</td>\n",
       "      <td>1</td>\n",
       "      <td>SI2865</td>\n",
       "      <td>122.0</td>\n",
       "      <td>2010-06-25</td>\n",
       "      <td>AI567060</td>\n",
       "      <td>F</td>\n",
       "      <td>AOI101718</td>\n",
       "      <td>29.0</td>\n",
       "    </tr>\n",
       "    <tr>\n",
       "      <th>5603</th>\n",
       "      <td>CI29081</td>\n",
       "      <td>1</td>\n",
       "      <td>SI2865</td>\n",
       "      <td>122.0</td>\n",
       "      <td>2010-06-25</td>\n",
       "      <td>AI566257</td>\n",
       "      <td>M</td>\n",
       "      <td>AOI100108</td>\n",
       "      <td>29.0</td>\n",
       "    </tr>\n",
       "    <tr>\n",
       "      <th>5604</th>\n",
       "      <td>CI29082</td>\n",
       "      <td>1</td>\n",
       "      <td>SI2865</td>\n",
       "      <td>122.0</td>\n",
       "      <td>2010-06-25</td>\n",
       "      <td>AI563777</td>\n",
       "      <td>M</td>\n",
       "      <td>AOI100108</td>\n",
       "      <td>29.0</td>\n",
       "    </tr>\n",
       "    <tr>\n",
       "      <th>5605</th>\n",
       "      <td>CI29083</td>\n",
       "      <td>1</td>\n",
       "      <td>SI2865</td>\n",
       "      <td>122.0</td>\n",
       "      <td>2010-06-25</td>\n",
       "      <td>AI564006</td>\n",
       "      <td>F</td>\n",
       "      <td>AOI100022</td>\n",
       "      <td>29.0</td>\n",
       "    </tr>\n",
       "  </tbody>\n",
       "</table>\n",
       "</div>"
      ],
      "text/plain": [
       "     challenge_ID  programming_language challenge_series_ID  \\\n",
       "5601      CI29079                     1              SI2864   \n",
       "5602      CI29080                     1              SI2865   \n",
       "5603      CI29081                     1              SI2865   \n",
       "5604      CI29082                     1              SI2865   \n",
       "5605      CI29083                     1              SI2865   \n",
       "\n",
       "      total_submissions publish_date author_ID author_gender author_org_ID  \\\n",
       "5601              122.0   2010-06-17  AI567059             M     AOI101717   \n",
       "5602              122.0   2010-06-25  AI567060             F     AOI101718   \n",
       "5603              122.0   2010-06-25  AI566257             M     AOI100108   \n",
       "5604              122.0   2010-06-25  AI563777             M     AOI100108   \n",
       "5605              122.0   2010-06-25  AI564006             F     AOI100022   \n",
       "\n",
       "      category_id  \n",
       "5601         29.0  \n",
       "5602         29.0  \n",
       "5603         29.0  \n",
       "5604         29.0  \n",
       "5605         29.0  "
      ]
     },
     "execution_count": 13,
     "metadata": {},
     "output_type": "execute_result"
    }
   ],
   "source": [
    "# Assign missing total_submissions to median number\n",
    "df_challenge[\"total_submissions\"] = df_challenge[\"total_submissions\"].fillna(value=122)\n",
    "df_challenge.tail()"
   ]
  },
  {
   "cell_type": "markdown",
   "metadata": {},
   "source": [
    "### Challenge series id"
   ]
  },
  {
   "cell_type": "code",
   "execution_count": 14,
   "metadata": {},
   "outputs": [
    {
     "data": {
      "image/png": "[encoded data removed]",
      "text/plain": [
       "<matplotlib.figure.Figure at 0x204d5108eb8>"
      ]
     },
     "metadata": {},
     "output_type": "display_data"
    }
   ],
   "source": [
    "with sns.plotting_context(\"notebook\",font_scale=1.5):\n",
    "    sns.set_style(\"whitegrid\")\n",
    "    sns.distplot(df_challenge[\"challenge_series_ID\"].dropna(),\n",
    "                 bins=20,\n",
    "                 kde=False,\n",
    "                 color=\"green\")\n",
    "    plt.title(\"challenge_series_ID\")\n",
    "    plt.ylabel(\"Count\")\n",
    "    "
   ]
  },
  {
   "cell_type": "code",
   "execution_count": 15,
   "metadata": {},
   "outputs": [
    {
     "data": {
      "text/plain": [
       "0"
      ]
     },
     "execution_count": 15,
     "metadata": {},
     "output_type": "execute_result"
    }
   ],
   "source": [
    "df_challenge[\"challenge_series_ID\"].isna().sum()"
   ]
  },
  {
   "cell_type": "markdown",
   "metadata": {},
   "source": [
    "### Use mode number of series_id for missing data\n",
    "Manually add the series id by previous value"
   ]
  },
  {
   "cell_type": "code",
   "execution_count": 16,
   "metadata": {},
   "outputs": [
    {
     "data": {
      "text/plain": [
       "0    SI2652\n",
       "dtype: object"
      ]
     },
     "execution_count": 16,
     "metadata": {},
     "output_type": "execute_result"
    }
   ],
   "source": [
    " df_challenge[\"challenge_series_ID\"].mode()"
   ]
  },
  {
   "cell_type": "code",
   "execution_count": 17,
   "metadata": {},
   "outputs": [
    {
     "data": {
      "text/html": [
       "<div>\n",
       "<style scoped>\n",
       "    .dataframe tbody tr th:only-of-type {\n",
       "        vertical-align: middle;\n",
       "    }\n",
       "\n",
       "    .dataframe tbody tr th {\n",
       "        vertical-align: top;\n",
       "    }\n",
       "\n",
       "    .dataframe thead th {\n",
       "        text-align: right;\n",
       "    }\n",
       "</style>\n",
       "<table border=\"1\" class=\"dataframe\">\n",
       "  <thead>\n",
       "    <tr style=\"text-align: right;\">\n",
       "      <th></th>\n",
       "      <th>challenge_ID</th>\n",
       "      <th>programming_language</th>\n",
       "      <th>challenge_series_ID</th>\n",
       "      <th>total_submissions</th>\n",
       "      <th>publish_date</th>\n",
       "      <th>author_ID</th>\n",
       "      <th>author_gender</th>\n",
       "      <th>author_org_ID</th>\n",
       "      <th>category_id</th>\n",
       "    </tr>\n",
       "  </thead>\n",
       "  <tbody>\n",
       "    <tr>\n",
       "      <th>5601</th>\n",
       "      <td>CI29079</td>\n",
       "      <td>1</td>\n",
       "      <td>SI2864</td>\n",
       "      <td>122.0</td>\n",
       "      <td>2010-06-17</td>\n",
       "      <td>AI567059</td>\n",
       "      <td>M</td>\n",
       "      <td>AOI101717</td>\n",
       "      <td>29.0</td>\n",
       "    </tr>\n",
       "    <tr>\n",
       "      <th>5602</th>\n",
       "      <td>CI29080</td>\n",
       "      <td>1</td>\n",
       "      <td>SI2865</td>\n",
       "      <td>122.0</td>\n",
       "      <td>2010-06-25</td>\n",
       "      <td>AI567060</td>\n",
       "      <td>F</td>\n",
       "      <td>AOI101718</td>\n",
       "      <td>29.0</td>\n",
       "    </tr>\n",
       "    <tr>\n",
       "      <th>5603</th>\n",
       "      <td>CI29081</td>\n",
       "      <td>1</td>\n",
       "      <td>SI2865</td>\n",
       "      <td>122.0</td>\n",
       "      <td>2010-06-25</td>\n",
       "      <td>AI566257</td>\n",
       "      <td>M</td>\n",
       "      <td>AOI100108</td>\n",
       "      <td>29.0</td>\n",
       "    </tr>\n",
       "    <tr>\n",
       "      <th>5604</th>\n",
       "      <td>CI29082</td>\n",
       "      <td>1</td>\n",
       "      <td>SI2865</td>\n",
       "      <td>122.0</td>\n",
       "      <td>2010-06-25</td>\n",
       "      <td>AI563777</td>\n",
       "      <td>M</td>\n",
       "      <td>AOI100108</td>\n",
       "      <td>29.0</td>\n",
       "    </tr>\n",
       "    <tr>\n",
       "      <th>5605</th>\n",
       "      <td>CI29083</td>\n",
       "      <td>1</td>\n",
       "      <td>SI2865</td>\n",
       "      <td>122.0</td>\n",
       "      <td>2010-06-25</td>\n",
       "      <td>AI564006</td>\n",
       "      <td>F</td>\n",
       "      <td>AOI100022</td>\n",
       "      <td>29.0</td>\n",
       "    </tr>\n",
       "  </tbody>\n",
       "</table>\n",
       "</div>"
      ],
      "text/plain": [
       "     challenge_ID  programming_language challenge_series_ID  \\\n",
       "5601      CI29079                     1              SI2864   \n",
       "5602      CI29080                     1              SI2865   \n",
       "5603      CI29081                     1              SI2865   \n",
       "5604      CI29082                     1              SI2865   \n",
       "5605      CI29083                     1              SI2865   \n",
       "\n",
       "      total_submissions publish_date author_ID author_gender author_org_ID  \\\n",
       "5601              122.0   2010-06-17  AI567059             M     AOI101717   \n",
       "5602              122.0   2010-06-25  AI567060             F     AOI101718   \n",
       "5603              122.0   2010-06-25  AI566257             M     AOI100108   \n",
       "5604              122.0   2010-06-25  AI563777             M     AOI100108   \n",
       "5605              122.0   2010-06-25  AI564006             F     AOI100022   \n",
       "\n",
       "      category_id  \n",
       "5601         29.0  \n",
       "5602         29.0  \n",
       "5603         29.0  \n",
       "5604         29.0  \n",
       "5605         29.0  "
      ]
     },
     "execution_count": 17,
     "metadata": {},
     "output_type": "execute_result"
    }
   ],
   "source": [
    "df_challenge[\"challenge_series_ID\"] = df_challenge[\"challenge_series_ID\"].fillna(value='SI2652')\n",
    "df_challenge.tail()"
   ]
  },
  {
   "cell_type": "code",
   "execution_count": 18,
   "metadata": {},
   "outputs": [
    {
     "data": {
      "image/png": "[encoded data removed]",
      "text/plain": [
       "<matplotlib.figure.Figure at 0x204d5f61860>"
      ]
     },
     "metadata": {},
     "output_type": "display_data"
    }
   ],
   "source": [
    "with sns.plotting_context(\"notebook\",font_scale=1.5):\n",
    "    sns.set_style(\"whitegrid\")\n",
    "    sns.distplot(df_challenge[\"author_ID\"].dropna(),\n",
    "                 bins=100,\n",
    "                 kde=False,\n",
    "                 color=\"green\")\n",
    "    plt.title(\"author_ID\")\n",
    "    plt.ylabel(\"Count\")"
   ]
  },
  {
   "cell_type": "code",
   "execution_count": 19,
   "metadata": {},
   "outputs": [
    {
     "data": {
      "text/plain": [
       "0    AI565468\n",
       "dtype: object"
      ]
     },
     "execution_count": 19,
     "metadata": {},
     "output_type": "execute_result"
    }
   ],
   "source": [
    " df_challenge[\"author_ID\"].mode()"
   ]
  },
  {
   "cell_type": "code",
   "execution_count": 20,
   "metadata": {},
   "outputs": [],
   "source": [
    "df_challenge[\"author_ID\"] = df_challenge[\"author_ID\"].fillna(value='AI565468')"
   ]
  },
  {
   "cell_type": "code",
   "execution_count": 21,
   "metadata": {},
   "outputs": [
    {
     "data": {
      "image/png": "[encoded data removed]",
      "text/plain": [
       "<matplotlib.figure.Figure at 0x204d6503be0>"
      ]
     },
     "metadata": {},
     "output_type": "display_data"
    }
   ],
   "source": [
    "with sns.plotting_context(\"notebook\",font_scale=1.5):\n",
    "    sns.set_style(\"whitegrid\")\n",
    "    sns.distplot(df_challenge[\"author_gender\"].dropna(),\n",
    "                 bins=2,\n",
    "                 kde=False,\n",
    "                 color=\"green\")\n",
    "    plt.title(\"author_gender\")\n",
    "    plt.ylabel(\"Count\")"
   ]
  },
  {
   "cell_type": "code",
   "execution_count": 22,
   "metadata": {},
   "outputs": [],
   "source": [
    "df_challenge[\"author_gender\"] = df_challenge[\"author_gender\"].fillna(value='M')"
   ]
  },
  {
   "cell_type": "code",
   "execution_count": 23,
   "metadata": {},
   "outputs": [
    {
     "data": {
      "image/png": "[encoded data removed]",
      "text/plain": [
       "<matplotlib.figure.Figure at 0x204e1134fd0>"
      ]
     },
     "metadata": {},
     "output_type": "display_data"
    }
   ],
   "source": [
    "with sns.plotting_context(\"notebook\",font_scale=1.5):\n",
    "    sns.set_style(\"whitegrid\")\n",
    "    sns.distplot(df_challenge[\"author_org_ID\"].dropna(),\n",
    "                 bins=100,\n",
    "                 kde=False,\n",
    "                 color=\"green\")\n",
    "    plt.title(\"author_org_ID\")\n",
    "    plt.ylabel(\"Count\")"
   ]
  },
  {
   "cell_type": "code",
   "execution_count": 24,
   "metadata": {},
   "outputs": [
    {
     "data": {
      "text/plain": [
       "0    AOI100201\n",
       "dtype: object"
      ]
     },
     "execution_count": 24,
     "metadata": {},
     "output_type": "execute_result"
    }
   ],
   "source": [
    "df_challenge[\"author_org_ID\"].mode()"
   ]
  },
  {
   "cell_type": "code",
   "execution_count": 25,
   "metadata": {},
   "outputs": [],
   "source": [
    "df_challenge[\"author_org_ID\"] = df_challenge[\"author_org_ID\"].fillna(value='AOI100201')"
   ]
  },
  {
   "cell_type": "code",
   "execution_count": 26,
   "metadata": {},
   "outputs": [
    {
     "data": {
      "image/png": "[encoded data removed]",
      "text/plain": [
       "<matplotlib.figure.Figure at 0x204dd3259b0>"
      ]
     },
     "metadata": {},
     "output_type": "display_data"
    }
   ],
   "source": [
    "with sns.plotting_context(\"notebook\",font_scale=1.5):\n",
    "    sns.set_style(\"whitegrid\")\n",
    "    sns.distplot(df_challenge[\"category_id\"].dropna(),\n",
    "                 bins=100,\n",
    "                 kde=False,\n",
    "                 color=\"green\")\n",
    "    plt.title(\"category_id\")\n",
    "    plt.ylabel(\"Count\")"
   ]
  },
  {
   "cell_type": "code",
   "execution_count": 27,
   "metadata": {},
   "outputs": [
    {
     "data": {
      "text/plain": [
       "0    29.0\n",
       "dtype: float64"
      ]
     },
     "execution_count": 27,
     "metadata": {},
     "output_type": "execute_result"
    }
   ],
   "source": [
    "df_challenge[\"category_id\"].mode()"
   ]
  },
  {
   "cell_type": "code",
   "execution_count": 28,
   "metadata": {},
   "outputs": [],
   "source": [
    "df_challenge[\"category_id\"] = df_challenge[\"category_id\"].fillna(value=29)"
   ]
  },
  {
   "cell_type": "code",
   "execution_count": 29,
   "metadata": {},
   "outputs": [
    {
     "data": {
      "image/png": "[encoded data removed]",
      "text/plain": [
       "<matplotlib.figure.Figure at 0x204e0c48470>"
      ]
     },
     "metadata": {},
     "output_type": "display_data"
    }
   ],
   "source": [
    "with sns.plotting_context(\"notebook\",font_scale=1.5):\n",
    "    sns.set_style(\"whitegrid\")\n",
    "    sns.distplot(df_challenge[\"programming_language\"].dropna(),\n",
    "                 bins=20,\n",
    "                 kde=False,\n",
    "                 color=\"green\")\n",
    "    plt.title(\"programming_language\")\n",
    "    plt.ylabel(\"Count\")"
   ]
  },
  {
   "cell_type": "code",
   "execution_count": 30,
   "metadata": {},
   "outputs": [
    {
     "data": {
      "text/plain": [
       "challenge_ID            False\n",
       "programming_language    False\n",
       "challenge_series_ID     False\n",
       "total_submissions       False\n",
       "publish_date            False\n",
       "author_ID               False\n",
       "author_gender           False\n",
       "author_org_ID           False\n",
       "category_id             False\n",
       "dtype: bool"
      ]
     },
     "execution_count": 30,
     "metadata": {},
     "output_type": "execute_result"
    }
   ],
   "source": [
    "df_challenge.isnull().any()"
   ]
  },
  {
   "cell_type": "code",
   "execution_count": null,
   "metadata": {},
   "outputs": [],
   "source": [
    "\n"
   ]
  },
  {
   "cell_type": "markdown",
   "metadata": {},
   "source": [
    "## Metadata Based Recommender\n",
    "\n",
    "To build the standard metadata based content recommender, merging current dataset with the crew and the keyword datasets. \n",
    "\n",
    "Data preparation as first step."
   ]
  },
  {
   "cell_type": "code",
   "execution_count": null,
   "metadata": {},
   "outputs": [],
   "source": []
  },
  {
   "cell_type": "markdown",
   "metadata": {},
   "source": [
    "## Collaborative Filtering\n",
    "\n",
    "Due to the lack of data content and distribution, the above based engine suffers from some severe limitations. \n",
    "It is only capable of suggesting challenges which are close to a certain challenge. \n",
    "That is, it is not capable of capturing tastes and providing recommendations across genres.\n",
    "Also, the engine is not really personal in that it doesn't capture the personal tastes and biases of a user. \n",
    "Anyone querying the engine for recommendations based on a challenge will receive the same recommendations for tmovie, regardless of who s/he is.\n",
    "\n",
    "Therefore, in this section, a technique called Collaborative Filtering will be used to make recommendations to users. \n",
    "Collaborative Filtering is based on the idea that users similar to a me can be used to predict how much I will like a particular product or service those users have used/experienced but I have not.\n",
    "The Surprise library provides algorithms like Singular Value Decomposition (SVD) to minimise RMSE (Root Mean Square Error) and give great recommendations.\n"
   ]
  },
  {
   "cell_type": "markdown",
   "metadata": {},
   "source": [
    "### Define our precision function \n",
    "\n",
    "The evaluation metric is Mean Average Precision (MAP) at K (K = 3). MAP is a well-known metric used to evaluate ranked retrieval results"
   ]
  },
  {
   "cell_type": "code",
   "execution_count": 31,
   "metadata": {},
   "outputs": [],
   "source": [
    "from collections import defaultdict\n",
    "\n",
    "from surprise import Dataset\n",
    "from surprise import SVD\n",
    "from surprise.model_selection import KFold\n",
    "\n",
    "\n",
    "def precision_recall_at_k(predictions, k=13, threshold=3.5):\n",
    "    '''Return precision and recall at k metrics for each user.'''\n",
    "\n",
    "    # First map the predictions to each user.\n",
    "    user_est_true = defaultdict(list)\n",
    "    for uid, _, true_r, est, _ in predictions:\n",
    "        user_est_true[uid].append((est, true_r))\n",
    "\n",
    "    precisions = dict()\n",
    "    recalls = dict()\n",
    "    for uid, user_ratings in user_est_true.items():\n",
    "\n",
    "        # Sort user ratings by estimated value\n",
    "        user_ratings.sort(key=lambda x: x[0], reverse=True)\n",
    "\n",
    "        # Number of relevant items\n",
    "        n_rel = sum((true_r >= threshold) for (_, true_r) in user_ratings)\n",
    "\n",
    "        # Number of recommended items in top k\n",
    "        n_rec_k = sum((est >= threshold) for (est, _) in user_ratings[:k])\n",
    "\n",
    "        # Number of relevant and recommended items in top k\n",
    "        n_rel_and_rec_k = sum(((true_r >= threshold) and (est >= threshold))\n",
    "                              for (est, true_r) in user_ratings[:k])\n",
    "\n",
    "        # Precision@K: Proportion of recommended items that are relevant\n",
    "        precisions[uid] = n_rel_and_rec_k / n_rec_k if n_rec_k != 0 else 1\n",
    "\n",
    "        # Recall@K: Proportion of relevant items that are recommended\n",
    "        recalls[uid] = n_rel_and_rec_k / n_rel if n_rel != 0 else 1\n",
    "\n",
    "    return precisions, recalls\n"
   ]
  },
  {
   "cell_type": "markdown",
   "metadata": {},
   "source": [
    "### Define our function to recommend top n challenge"
   ]
  },
  {
   "cell_type": "code",
   "execution_count": 32,
   "metadata": {},
   "outputs": [],
   "source": [
    "def get_top_n(predictions, n=3):\n",
    "    '''Return the top-N recommendation for each user from a set of predictions.\n",
    "\n",
    "    Args:\n",
    "        predictions(list of Prediction objects): The list of predictions, as\n",
    "            returned by the test method of an algorithm.\n",
    "        n(int): The number of recommendation to output for each user. Default\n",
    "            is 3.\n",
    "\n",
    "    Returns:\n",
    "    A dict where keys are user (raw) ids and values are lists of tuples:\n",
    "        [(raw item id, rating estimation), ...] of size n.\n",
    "    '''\n",
    "\n",
    "    # First map the predictions to each user.\n",
    "    top_n = defaultdict(list)\n",
    "    for uid, iid, true_r, est, _ in predictions:\n",
    "        top_n[uid].append((iid, est))\n",
    "\n",
    "    # Then sort the predictions for each user and retrieve the k highest ones.\n",
    "    for uid, user_ratings in top_n.items():\n",
    "        user_ratings.sort(key=lambda x: x[1], reverse=True)\n",
    "        top_n[uid] = user_ratings[:n]\n",
    "\n",
    "    return top_n"
   ]
  },
  {
   "cell_type": "markdown",
   "metadata": {},
   "source": [
    "#### Adjust challenge sequence to ranking by 14-challenge_sequence"
   ]
  },
  {
   "cell_type": "code",
   "execution_count": 33,
   "metadata": {},
   "outputs": [
    {
     "data": {
      "text/html": [
       "<div>\n",
       "<style scoped>\n",
       "    .dataframe tbody tr th:only-of-type {\n",
       "        vertical-align: middle;\n",
       "    }\n",
       "\n",
       "    .dataframe tbody tr th {\n",
       "        vertical-align: top;\n",
       "    }\n",
       "\n",
       "    .dataframe thead th {\n",
       "        text-align: right;\n",
       "    }\n",
       "</style>\n",
       "<table border=\"1\" class=\"dataframe\">\n",
       "  <thead>\n",
       "    <tr style=\"text-align: right;\">\n",
       "      <th></th>\n",
       "      <th>user_sequence</th>\n",
       "      <th>user_id</th>\n",
       "      <th>challenge_sequence</th>\n",
       "      <th>challenge</th>\n",
       "    </tr>\n",
       "  </thead>\n",
       "  <tbody>\n",
       "    <tr>\n",
       "      <th>0</th>\n",
       "      <td>4576_1</td>\n",
       "      <td>4576</td>\n",
       "      <td>13</td>\n",
       "      <td>CI23714</td>\n",
       "    </tr>\n",
       "    <tr>\n",
       "      <th>1</th>\n",
       "      <td>4576_2</td>\n",
       "      <td>4576</td>\n",
       "      <td>12</td>\n",
       "      <td>CI23855</td>\n",
       "    </tr>\n",
       "    <tr>\n",
       "      <th>2</th>\n",
       "      <td>4576_3</td>\n",
       "      <td>4576</td>\n",
       "      <td>11</td>\n",
       "      <td>CI24917</td>\n",
       "    </tr>\n",
       "    <tr>\n",
       "      <th>3</th>\n",
       "      <td>4576_4</td>\n",
       "      <td>4576</td>\n",
       "      <td>10</td>\n",
       "      <td>CI23663</td>\n",
       "    </tr>\n",
       "    <tr>\n",
       "      <th>4</th>\n",
       "      <td>4576_5</td>\n",
       "      <td>4576</td>\n",
       "      <td>9</td>\n",
       "      <td>CI23933</td>\n",
       "    </tr>\n",
       "  </tbody>\n",
       "</table>\n",
       "</div>"
      ],
      "text/plain": [
       "  user_sequence  user_id  challenge_sequence challenge\n",
       "0        4576_1     4576                  13   CI23714\n",
       "1        4576_2     4576                  12   CI23855\n",
       "2        4576_3     4576                  11   CI24917\n",
       "3        4576_4     4576                  10   CI23663\n",
       "4        4576_5     4576                   9   CI23933"
      ]
     },
     "execution_count": 33,
     "metadata": {},
     "output_type": "execute_result"
    }
   ],
   "source": [
    "reader = Reader(rating_scale=(1,13))\n",
    "\n",
    "# Combine training and testing dataset\n",
    "frames = [df_train, df_test]\n",
    "df = pd.concat(frames)\n",
    "ratings = df.copy(deep=True)\n",
    "ratings['challenge_sequence'] = 14-ratings['challenge_sequence']\n",
    "ratings.head()\n"
   ]
  },
  {
   "cell_type": "code",
   "execution_count": null,
   "metadata": {},
   "outputs": [],
   "source": []
  },
  {
   "cell_type": "markdown",
   "metadata": {},
   "source": [
    "#### Using n-folds, n = 5, to perform cross validation."
   ]
  },
  {
   "cell_type": "code",
   "execution_count": 34,
   "metadata": {},
   "outputs": [],
   "source": [
    "n_folds = 5\n",
    "data = Dataset.load_from_df(ratings[['user_id', 'challenge', 'challenge_sequence']], reader)"
   ]
  },
  {
   "cell_type": "markdown",
   "metadata": {},
   "source": [
    "### Select algorithm for prediction"
   ]
  },
  {
   "cell_type": "code",
   "execution_count": 35,
   "metadata": {},
   "outputs": [
    {
     "name": "stdout",
     "output_type": "stream",
     "text": [
      "Evaluating FCP, RMSE, MAE of algorithm SVDpp on 5 split(s).\n",
      "\n",
      "                  Fold 1  Fold 2  Fold 3  Fold 4  Fold 5  Mean    Std     \n",
      "FCP (testset)     0.5955  0.5953  0.5946  0.5960  0.5952  0.5953  0.0005  \n",
      "RMSE (testset)    3.3193  3.3123  3.2993  3.3059  3.3108  3.3095  0.0067  \n",
      "MAE (testset)     2.5820  2.5787  2.5711  2.5768  2.5822  2.5781  0.0041  \n",
      "Fit time          600.48  605.49  610.17  606.52  276.01  539.73  131.90  \n",
      "Test time         17.65   15.61   16.34   15.04   6.54    14.24   3.95    \n"
     ]
    },
    {
     "data": {
      "text/plain": [
       "{'fit_time': (600.4766566753387,\n",
       "  605.4902696609497,\n",
       "  610.1671254634857,\n",
       "  606.5244348049164,\n",
       "  276.0096118450165),\n",
       " 'test_fcp': array([0.59549265, 0.59525893, 0.5945876 , 0.59600783, 0.59515513]),\n",
       " 'test_mae': array([2.58197824, 2.57871009, 2.57106366, 2.57676066, 2.5822106 ]),\n",
       " 'test_rmse': array([3.31931163, 3.31230971, 3.29934145, 3.30592659, 3.31084098]),\n",
       " 'test_time': (17.649951219558716,\n",
       "  15.60952353477478,\n",
       "  16.343475341796875,\n",
       "  15.04062032699585,\n",
       "  6.542790174484253)}"
      ]
     },
     "execution_count": 35,
     "metadata": {},
     "output_type": "execute_result"
    }
   ],
   "source": [
    "algo = SVDpp()\n",
    "\n",
    "#Run 5-fold cross-validation and print results\n",
    "cross_validate(algo, data, measures=['FCP', 'RMSE', 'MAE'], cv=n_folds, verbose=True)"
   ]
  },
  {
   "cell_type": "code",
   "execution_count": 36,
   "metadata": {},
   "outputs": [
    {
     "name": "stdout",
     "output_type": "stream",
     "text": [
      "Evaluating FCP, RMSE, MAE of algorithm SVD on 5 split(s).\n",
      "\n",
      "                  Fold 1  Fold 2  Fold 3  Fold 4  Fold 5  Mean    Std     \n",
      "FCP (testset)     0.5828  0.5807  0.5808  0.5799  0.5821  0.5813  0.0010  \n",
      "RMSE (testset)    3.2707  3.2714  3.2704  3.2680  3.2634  3.2688  0.0029  \n",
      "MAE (testset)     2.7022  2.7063  2.7021  2.7013  2.6959  2.7016  0.0033  \n",
      "Fit time          177.64  183.66  186.75  183.50  95.76   165.46  34.97   \n",
      "Test time         5.83    6.06    4.47    3.35    2.39    4.42    1.41    \n"
     ]
    },
    {
     "data": {
      "text/plain": [
       "{'fit_time': (177.6418435573578,\n",
       "  183.66005778312683,\n",
       "  186.74927592277527,\n",
       "  183.49513268470764,\n",
       "  95.76461338996887),\n",
       " 'test_fcp': array([0.58276264, 0.58073649, 0.580773  , 0.57990113, 0.5820837 ]),\n",
       " 'test_mae': array([2.70223029, 2.70627739, 2.70209882, 2.70128537, 2.69588259]),\n",
       " 'test_rmse': array([3.27065838, 3.27137378, 3.27036387, 3.26804422, 3.26341703]),\n",
       " 'test_time': (5.831512212753296,\n",
       "  6.057112693786621,\n",
       "  4.474903583526611,\n",
       "  3.351712465286255,\n",
       "  2.386348247528076)}"
      ]
     },
     "execution_count": 36,
     "metadata": {},
     "output_type": "execute_result"
    }
   ],
   "source": [
    "algo = SVD()\n",
    "\n",
    "#Run 5-fold cross-validation and print results\n",
    "cross_validate(algo, data, measures=['FCP', 'RMSE', 'MAE'], cv=n_folds, verbose=True)"
   ]
  },
  {
   "cell_type": "markdown",
   "metadata": {},
   "source": [
    "### Evaluate by AP@K=13\n"
   ]
  },
  {
   "cell_type": "code",
   "execution_count": 37,
   "metadata": {},
   "outputs": [],
   "source": [
    "ap_k = 13"
   ]
  },
  {
   "cell_type": "code",
   "execution_count": 38,
   "metadata": {},
   "outputs": [
    {
     "name": "stdout",
     "output_type": "stream",
     "text": [
      "precisions=0.999763\n",
      "recalls=0.782874\n",
      "precisions=0.999683\n",
      "recalls=0.785015\n",
      "precisions=0.999723\n",
      "recalls=0.785952\n",
      "precisions=0.999694\n",
      "recalls=0.783160\n",
      "precisions=0.999753\n",
      "recalls=0.784516\n"
     ]
    }
   ],
   "source": [
    "kf = KFold(n_splits=n_folds)\n",
    "algo = SVD()\n",
    "\n",
    "for trainset, testset in kf.split(data):\n",
    "    algo.fit(trainset)\n",
    "    predictions = algo.test(testset)\n",
    "    precisions, recalls = precision_recall_at_k(predictions, k=ap_k, threshold=13)\n",
    "\n",
    "    # Precision and recall can then be averaged over all users\n",
    "    print('precisions=%f'%(sum(prec for prec in precisions.values()) / len(precisions)))\n",
    "    print('recalls=%f'%(sum(rec for rec in recalls.values()) / len(recalls)))\n",
    "    "
   ]
  },
  {
   "cell_type": "code",
   "execution_count": 39,
   "metadata": {},
   "outputs": [
    {
     "name": "stdout",
     "output_type": "stream",
     "text": [
      "precisions=0.881019\n",
      "recalls=0.930159\n",
      "precisions=0.880099\n",
      "recalls=0.930480\n",
      "precisions=0.880601\n",
      "recalls=0.930825\n",
      "precisions=0.882002\n",
      "recalls=0.929146\n",
      "precisions=0.881063\n",
      "recalls=0.930856\n"
     ]
    }
   ],
   "source": [
    "kf = KFold(n_splits=n_folds)\n",
    "algo = SVDpp()\n",
    "\n",
    "for trainset, testset in kf.split(data):\n",
    "    algo.fit(trainset)\n",
    "    predictions = algo.test(testset)\n",
    "    precisions, recalls = precision_recall_at_k(predictions, k=ap_k, threshold=4)\n",
    "\n",
    "    # Precision and recall can then be averaged over all users\n",
    "    print('precisions=%f'%(sum(prec for prec in precisions.values()) / len(precisions)))\n",
    "    print('recalls=%f'%(sum(rec for rec in recalls.values()) / len(recalls)))"
   ]
  },
  {
   "cell_type": "markdown",
   "metadata": {},
   "source": [
    "#### According to above testing, SVDpp provides better balance on precision and recall\n",
    "\n",
    "Choose SVDpp as major algorithm."
   ]
  },
  {
   "cell_type": "markdown",
   "metadata": {},
   "source": [
    "### Train the data"
   ]
  },
  {
   "cell_type": "code",
   "execution_count": null,
   "metadata": {},
   "outputs": [],
   "source": []
  },
  {
   "cell_type": "code",
   "execution_count": 40,
   "metadata": {},
   "outputs": [],
   "source": [
    "algo = SVDpp()"
   ]
  },
  {
   "cell_type": "code",
   "execution_count": 41,
   "metadata": {},
   "outputs": [
    {
     "data": {
      "text/plain": [
       "<surprise.prediction_algorithms.matrix_factorization.SVDpp at 0x204d63b80f0>"
      ]
     },
     "execution_count": 41,
     "metadata": {},
     "output_type": "execute_result"
    }
   ],
   "source": [
    "trainset = data.build_full_trainset()\n",
    "algo.train(trainset)"
   ]
  },
  {
   "cell_type": "markdown",
   "metadata": {},
   "source": [
    "#### Let us pick first user and check the ratings s/he has given."
   ]
  },
  {
   "cell_type": "code",
   "execution_count": 42,
   "metadata": {},
   "outputs": [
    {
     "data": {
      "text/html": [
       "<div>\n",
       "<style scoped>\n",
       "    .dataframe tbody tr th:only-of-type {\n",
       "        vertical-align: middle;\n",
       "    }\n",
       "\n",
       "    .dataframe tbody tr th {\n",
       "        vertical-align: top;\n",
       "    }\n",
       "\n",
       "    .dataframe thead th {\n",
       "        text-align: right;\n",
       "    }\n",
       "</style>\n",
       "<table border=\"1\" class=\"dataframe\">\n",
       "  <thead>\n",
       "    <tr style=\"text-align: right;\">\n",
       "      <th></th>\n",
       "      <th>user_sequence</th>\n",
       "      <th>user_id</th>\n",
       "      <th>challenge_sequence</th>\n",
       "      <th>challenge</th>\n",
       "    </tr>\n",
       "  </thead>\n",
       "  <tbody>\n",
       "    <tr>\n",
       "      <th>0</th>\n",
       "      <td>4576_1</td>\n",
       "      <td>4576</td>\n",
       "      <td>13</td>\n",
       "      <td>CI23714</td>\n",
       "    </tr>\n",
       "    <tr>\n",
       "      <th>1</th>\n",
       "      <td>4576_2</td>\n",
       "      <td>4576</td>\n",
       "      <td>12</td>\n",
       "      <td>CI23855</td>\n",
       "    </tr>\n",
       "    <tr>\n",
       "      <th>2</th>\n",
       "      <td>4576_3</td>\n",
       "      <td>4576</td>\n",
       "      <td>11</td>\n",
       "      <td>CI24917</td>\n",
       "    </tr>\n",
       "    <tr>\n",
       "      <th>3</th>\n",
       "      <td>4576_4</td>\n",
       "      <td>4576</td>\n",
       "      <td>10</td>\n",
       "      <td>CI23663</td>\n",
       "    </tr>\n",
       "    <tr>\n",
       "      <th>4</th>\n",
       "      <td>4576_5</td>\n",
       "      <td>4576</td>\n",
       "      <td>9</td>\n",
       "      <td>CI23933</td>\n",
       "    </tr>\n",
       "    <tr>\n",
       "      <th>5</th>\n",
       "      <td>4576_6</td>\n",
       "      <td>4576</td>\n",
       "      <td>8</td>\n",
       "      <td>CI25135</td>\n",
       "    </tr>\n",
       "    <tr>\n",
       "      <th>6</th>\n",
       "      <td>4576_7</td>\n",
       "      <td>4576</td>\n",
       "      <td>7</td>\n",
       "      <td>CI23975</td>\n",
       "    </tr>\n",
       "    <tr>\n",
       "      <th>7</th>\n",
       "      <td>4576_8</td>\n",
       "      <td>4576</td>\n",
       "      <td>6</td>\n",
       "      <td>CI25126</td>\n",
       "    </tr>\n",
       "    <tr>\n",
       "      <th>8</th>\n",
       "      <td>4576_9</td>\n",
       "      <td>4576</td>\n",
       "      <td>5</td>\n",
       "      <td>CI24915</td>\n",
       "    </tr>\n",
       "    <tr>\n",
       "      <th>9</th>\n",
       "      <td>4576_10</td>\n",
       "      <td>4576</td>\n",
       "      <td>4</td>\n",
       "      <td>CI24957</td>\n",
       "    </tr>\n",
       "    <tr>\n",
       "      <th>10</th>\n",
       "      <td>4576_11</td>\n",
       "      <td>4576</td>\n",
       "      <td>3</td>\n",
       "      <td>CI24958</td>\n",
       "    </tr>\n",
       "    <tr>\n",
       "      <th>11</th>\n",
       "      <td>4576_12</td>\n",
       "      <td>4576</td>\n",
       "      <td>2</td>\n",
       "      <td>CI23667</td>\n",
       "    </tr>\n",
       "    <tr>\n",
       "      <th>12</th>\n",
       "      <td>4576_13</td>\n",
       "      <td>4576</td>\n",
       "      <td>1</td>\n",
       "      <td>CI23691</td>\n",
       "    </tr>\n",
       "  </tbody>\n",
       "</table>\n",
       "</div>"
      ],
      "text/plain": [
       "   user_sequence  user_id  challenge_sequence challenge\n",
       "0         4576_1     4576                  13   CI23714\n",
       "1         4576_2     4576                  12   CI23855\n",
       "2         4576_3     4576                  11   CI24917\n",
       "3         4576_4     4576                  10   CI23663\n",
       "4         4576_5     4576                   9   CI23933\n",
       "5         4576_6     4576                   8   CI25135\n",
       "6         4576_7     4576                   7   CI23975\n",
       "7         4576_8     4576                   6   CI25126\n",
       "8         4576_9     4576                   5   CI24915\n",
       "9        4576_10     4576                   4   CI24957\n",
       "10       4576_11     4576                   3   CI24958\n",
       "11       4576_12     4576                   2   CI23667\n",
       "12       4576_13     4576                   1   CI23691"
      ]
     },
     "execution_count": 42,
     "metadata": {},
     "output_type": "execute_result"
    }
   ],
   "source": [
    "ratings[ratings['user_id'] == 4576]"
   ]
  },
  {
   "cell_type": "code",
   "execution_count": 5,
   "metadata": {},
   "outputs": [
    {
     "data": {
      "text/plain": [
       "Prediction(uid=4576, iid='CI23855', r_ui=12, est=11.400594668750657, details={'was_impossible': False})"
      ]
     },
     "execution_count": 5,
     "metadata": {},
     "output_type": "execute_result"
    }
   ],
   "source": [
    "algo.predict(4576, 'CI23855', 12)"
   ]
  },
  {
   "cell_type": "markdown",
   "metadata": {},
   "source": [
    "### Make Prediction on testing set"
   ]
  },
  {
   "cell_type": "code",
   "execution_count": 44,
   "metadata": {},
   "outputs": [
    {
     "data": {
      "text/plain": [
       "<surprise.prediction_algorithms.matrix_factorization.SVDpp at 0x204d63b80f0>"
      ]
     },
     "execution_count": 44,
     "metadata": {},
     "output_type": "execute_result"
    }
   ],
   "source": [
    "trainset = data.build_full_trainset()\n",
    "algo.fit(trainset)"
   ]
  },
  {
   "cell_type": "markdown",
   "metadata": {},
   "source": [
    "#### Unmark below code to store / retrive above result into disk to save computing time for rest of procedures."
   ]
  },
  {
   "cell_type": "code",
   "execution_count": 4,
   "metadata": {},
   "outputs": [],
   "source": [
    "\n",
    "# with open(r'./trainset.pkl', 'wb') as afile:\n",
    "#     pickle.dump(trainset, afile, protocol=pickle.HIGHEST_PROTOCOL)\n",
    "# afile.close()\n",
    "\n",
    "# with afile = open(r'./algo.pkl', 'wb') as afile:\n",
    "#     pickle.dump(algo, afile, protocol=pickle.HIGHEST_PROTOCOL)\n",
    "# afile.close()\n",
    "\n",
    "# # reload object from file\n",
    "# with open('./trainset.pkl', 'rb') as file2:\n",
    "#     trainset = pickle.load(file2)\n",
    "# file2.close()\n",
    "\n",
    "# with open('./algo.pkl', 'rb') as file2:\n",
    "#     algo = pickle.load(file2)\n",
    "# file2.close()\n"
   ]
  },
  {
   "cell_type": "code",
   "execution_count": null,
   "metadata": {},
   "outputs": [],
   "source": []
  },
  {
   "cell_type": "code",
   "execution_count": 47,
   "metadata": {},
   "outputs": [],
   "source": [
    "# Than predict ratings for all pairs (u, i) that are NOT in the training set.\n",
    "testset = trainset.build_anti_testset()"
   ]
  },
  {
   "cell_type": "code",
   "execution_count": null,
   "metadata": {},
   "outputs": [],
   "source": [
    "# with open('./testset.pkl', 'wb') as afile:\n",
    "#     pickle.dump(testset, afile, protocol=pickle.HIGHEST_PROTOCOL)\n",
    "\n",
    "# afile.close()\n",
    "\n",
    "##reload object from file\n",
    "# with open(r'./testset.pkl', 'rb') file2 as:\n",
    "#     testset = pickle.load(file2)\n",
    "# file2.close()"
   ]
  },
  {
   "cell_type": "code",
   "execution_count": null,
   "metadata": {},
   "outputs": [],
   "source": [
    "df_test.set_index(['user_id'])\n",
    "\n",
    "new_test_data = list()\n",
    "## List down partial data for checking if required.\n",
    "# i = 0\n",
    "# for item in testset:\n",
    "#     print('item[0]=%s'%(item[0]))\n",
    "#     i += 1\n",
    "#     if i > 5: continue\n",
    "        \n",
    "for item in testset:\n",
    "    if item[0] in df_test.index:\n",
    "        new_test_data.append(item)\n",
    "    else: pass\n",
    "    \n",
    "        \n",
    "        "
   ]
  },
  {
   "cell_type": "code",
   "execution_count": null,
   "metadata": {},
   "outputs": [],
   "source": [
    "# with open('./newtestset.pkl', 'wb') as afile:\n",
    "#     pickle.dump(new_test_data, afile, protocol=pickle.HIGHEST_PROTOCOL)\n",
    "# afile.close()\n",
    "\n",
    "##reload object from file\n",
    "# with open('./newtestset.pkl', 'rb') as file2:\n",
    "#     newtestset = pickle.load(file2)\n",
    "# file2.close()"
   ]
  },
  {
   "cell_type": "code",
   "execution_count": null,
   "metadata": {},
   "outputs": [],
   "source": [
    "predictions = algo.test(new_test_data)\n",
    "\n",
    "# with open('./predictions.pkl', 'wb') as afile:\n",
    "#     pickle.dump(predictions, afile, protocol=pickle.HIGHEST_PROTOCOL)\n",
    "# afile.close()"
   ]
  },
  {
   "cell_type": "code",
   "execution_count": null,
   "metadata": {},
   "outputs": [],
   "source": [
    "top_n = get_top_n(predictions, n=3)\n",
    "\n",
    "# Print the recommended items for each user, only get first 7 users as example to view the results.\n",
    "i = 0\n",
    "for uid, user_ratings in top_n.items():\n",
    "    print(uid, [iid for (iid, _) in user_ratings])\n",
    "    i += 1\n",
    "    if i > 21: continue"
   ]
  }
 ],
 "metadata": {
  "kernelspec": {
   "display_name": "Python 3",
   "language": "python",
   "name": "python3"
  },
  "language_info": {
   "codemirror_mode": {
    "name": "ipython",
    "version": 3
   },
   "file_extension": ".py",
   "mimetype": "text/x-python",
   "name": "python",
   "nbconvert_exporter": "python",
   "pygments_lexer": "ipython3",
   "version": "3.6.4"
  }
 },
 "nbformat": 4,
 "nbformat_minor": 2
}
